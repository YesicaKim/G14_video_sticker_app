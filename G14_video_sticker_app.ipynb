{
 "cells": [
  {
   "cell_type": "markdown",
   "metadata": {},
   "source": [
    "# 카메라 스티커앱을 개선하자\n",
    "\n",
    "우리는 이전에 만들었던 카메라 스티커앱이 동영상을 처리할 수 있도록 개선하는 프로젝트를 진행하려고 합니다. 하지만 지난 시간에 살펴 보았듯이, 동영상을 처리하는 카메라앱을 만들기 위해서는 단순 이미지를 처리하는 작업 이상으로 고려해야 할 것들이 있었습니다. 피사체인 사람이 움직이기 때문에 발생하는 여러가지 예외상황, 처리속도의 문제, 화면떨림 등의 안정성 문제 등에 대응하는 방법이 필요하다는 것을 알 수 있었습니다.\n",
    "\n",
    "이번 시간의 목표입니다.\n",
    "\n",
    "동영상 쉽게 다룰 수 있는 방법 익히기\n",
    "스티커앱 성능 분석하기 + 간단한 개선 방법\n",
    "원하는 스펙을 수치로 지정하기\n",
    "칼만 필터로 동영상 성능 개선하기\n",
    "\n",
    "# 칼만 필터 적용하기\n",
    "카메라 앞에서 가만히 있을 때 스티커의 움직임을 관찰해 주세요.\n",
    "이론 강의에서 배운 칼만 필터를 적용해서 스티커 움직임을 안정화시켜 주세요.\n",
    "\n",
    "# 평가 루브릭\n",
    "\n",
    "아래의 기준을 바탕으로 프로젝트를 평가합니다.\n",
    "\n",
    "평가문항\t상세기준\n",
    "1. 분류 모델의 accuracy가 기준 이상 높게 나왔는가?: 만족하였음\n",
    "2. 분류 모델의 F1 score가 기준 이상 높게 나왔는가?: 만족하였음\n",
    "3. 생성모델의 metric(BLEU 등) 기준 이상 높은 성능이 확인되었는가?: 만족하였음"
   ]
  },
  {
   "cell_type": "code",
   "execution_count": null,
   "metadata": {},
   "outputs": [],
   "source": []
  }
 ],
 "metadata": {
  "kernelspec": {
   "display_name": "aiffel",
   "language": "python",
   "name": "aiffel"
  },
  "language_info": {
   "codemirror_mode": {
    "name": "ipython",
    "version": 3
   },
   "file_extension": ".py",
   "mimetype": "text/x-python",
   "name": "python",
   "nbconvert_exporter": "python",
   "pygments_lexer": "ipython3",
   "version": "3.7.6"
  }
 },
 "nbformat": 4,
 "nbformat_minor": 4
}
